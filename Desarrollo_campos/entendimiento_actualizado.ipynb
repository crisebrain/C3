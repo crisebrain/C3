{
 "cells": [
  {
   "cell_type": "markdown",
   "metadata": {},
   "source": [
    "# Instalar nltk"
   ]
  },
  {
   "cell_type": "code",
   "execution_count": null,
   "metadata": {},
   "outputs": [],
   "source": [
    "# Correr aquí\n",
    "!pip install nltk"
   ]
  },
  {
   "cell_type": "code",
   "execution_count": 4,
   "metadata": {},
   "outputs": [],
   "source": [
    "# from __future__ import print_function\n",
    "import spaghetti as sgt\n",
    "import re\n",
    "import nltk\n",
    "import numpy as np\n",
    "import json"
   ]
  },
  {
   "cell_type": "markdown",
   "metadata": {},
   "source": [
    "### Descargar los corpus\n",
    "```python \n",
    "nltk.download()\n",
    "```\n",
    "\n",
    "### archivos contenidos en carpeta\n",
    "- spaghetti.py\n",
    "- facturaskeys.json\n",
    "- entendimiento.ipynb"
   ]
  },
  {
   "cell_type": "markdown",
   "metadata": {},
   "source": [
    "### definicion de palabras asociadas a los campos y de patrones de expresiones regulares"
   ]
  },
  {
   "cell_type": "code",
   "execution_count": 5,
   "metadata": {},
   "outputs": [
    {
     "name": "stdout",
     "output_type": "stream",
     "text": [
      "{'Prefijo': ['prefijo', 'serie'], 'NoDocumento': ['documento', 'documentos', 'nota', 'notas', 'crédito', 'créditos', 'credito', 'creditos', 'facturas', 'factura', 'numero', 'número'], 'Folio': ['folio', 'folios'], 'Inicio': ['inicial', 'inicio', 'comienza', 'comienzan', 'comienzo', 'empieza', 'empiezan', 'principio', 'principian', 'arranque', 'inicia', 'inicien', 'inician', 'inicializacion', 'inicialización'], 'Fin': ['final', 'fin', 'finaliza', 'termina', 'concluye', 'terminal', 'finalicen', 'finalizan', 'finalizado', 'finalice', 'finalizacion', 'finalización', 'cierre'], 'Singlel': ['b', 'c', 'd', 'f', 'g', 'h', 'i', 'j', 'k', 'l', 'm', 'n', 'ñ', 'p', 'q', 'r', 's', 't', 'v', 'w', 'x', 'z'], 'Es': ['es', 'ser', 'son', 'igual', 'definido', 'tiene'], 'Valor': ['valor'], 'Reciente': ['reciente'], 'De': ['de'], 'Estado': ['estado', 'estatus'], 'NitAdquirienteMex': ['nit', 'adquiriente', 'rfc'], 'Sust': ['número', 'numero', 'clave', 'matrícula', 'matricula', 'numeración'], 'Cuenta': ['cuenta']}\n"
     ]
    }
   ],
   "source": [
    "dictfacturas = json.load(open(\"facturaskeys.json\"))\n",
    "print(dictfacturas)\n",
    "\n",
    "patterns = dict(Cuenta=r\"\\b[A-Za-z]{3}\\d{3}\\b\",\n",
    "                Prefijo=r\"\\b[1-9a-zA-Z]\\w{0,3}\\b\",  # wvect\n",
    "                NoDocumento=r\"\\b[0-9a-zA-Z\\-]{1,40}\\b\",  # w2vect\n",
    "                NitAdquirienteMex=r\"\\b[A-Za-z]{4}\\d{6}[A-Za-z0-9]{3}\\b\")"
   ]
  },
  {
   "cell_type": "markdown",
   "metadata": {},
   "source": [
    "### NOTA: \n",
    "\n",
    "    Añadir al archivo facturaskeys.json los sinónimos que crean necesarios para cada campo, \n",
    "    respetando la estructura json"
   ]
  },
  {
   "cell_type": "markdown",
   "metadata": {},
   "source": [
    "### funciones\n",
    "\n",
    "Nota:\n",
    "\n",
    "    - Le hice cambios a la función do_tagged() resaltados con \"##\" revisar.\n",
    "    - Ya casi está terminada lo de no. de documento.\n",
    "    - Revisar los temas que añadí al notebook, son consejos y la observación sobre la definición correcta de Q."
   ]
  },
  {
   "cell_type": "code",
   "execution_count": 6,
   "metadata": {},
   "outputs": [],
   "source": [
    "def regexextractor(expression, field):\n",
    "    pattern = patterns[field]\n",
    "    result = re.search(pattern=pattern, string=expression)\n",
    "    if result:\n",
    "        return result.group()\n",
    "    else:\n",
    "        return None\n",
    "\n",
    "def do_tagging(exp, field):\n",
    "    tokens = nltk.word_tokenize(exp)\n",
    "    tagged = sgt.pos_tag(tokens)\n",
    "    tagged = np.array([list(tup) for tup in tagged]).astype(str) \n",
    "    ## Añadir a script\n",
    "    ########################\n",
    "    key = \"Singlel\"\n",
    "    related = dictfacturas[key]\n",
    "    for i, token in enumerate(tokens):\n",
    "        if token in dictfacturas[field]:\n",
    "            tagged[i, 1] = str(field)\n",
    "        elif token in related:\n",
    "            tagged[i, 1] = key\n",
    "    #######################\n",
    "    mask = tagged[:, 1] == 'None'\n",
    "    unknowns, = np.where(mask)\n",
    "    for unknown in unknowns:\n",
    "        if regexextractor(tokens[unknown], field) is not None:\n",
    "            tagged[unknown, 1] = \"dato\"\n",
    "        else:\n",
    "            tagged[unknown, 1] = \"unknown\"\n",
    "    return [tuple(wordtagged) for wordtagged in tagged]\n",
    "\n",
    "def do_chunking(grammar, tagged, field, code):\n",
    "    # añadir las condiciones que sean necesarias para contemplar\n",
    "    # los posibles valores de campo\n",
    "    posibles = ['Fz', 'Y', 'Z', 'cc', 'dato', 'nccn000', \"ncms000\"\n",
    "                'ncfs000', 'sps00', 'Singlel']\n",
    "    # posibles son los tipos de palabras que pueden representar al dato\n",
    "    \n",
    "    cp = nltk.RegexpParser(grammar)\n",
    "    chunked = cp.parse(tagged)\n",
    "    continuous_chunk = []\n",
    "    entity = []\n",
    "    unknowns = []\n",
    "    subt = []\n",
    "    for i, subtree in enumerate(chunked):\n",
    "        if isinstance(subtree, nltk.Tree) and subtree.label() == \"NP\":\n",
    "            # añadir las condiciones que sean necesarias para contemplar los posibles valores\n",
    "            entity += [token for token, pos in subtree.leaves()\n",
    "                       if pos in posibles]\n",
    "            unknowns += [token for token, pos in subtree.leaves()\n",
    "                         if pos == \"unknown\"]\n",
    "            subt.append(subtree)\n",
    "    if entity == []:\n",
    "        code = 0\n",
    "        if len(unknowns) > 1:\n",
    "            entity = unknowns[-1].upper()\n",
    "        elif unknowns != []:\n",
    "            entity = unknowns[0].upper()\n",
    "        else:\n",
    "            entity = None\n",
    "    elif len(entity) > 1:\n",
    "        code = 0\n",
    "        entity = entity[-1].upper()\n",
    "    else:\n",
    "        entity = entity[0].upper()\n",
    "        if regexextractor(entity, field) is not None:\n",
    "            code = 1\n",
    "        else:\n",
    "            code = 0\n",
    "    return entity, code, subt, tagged"
   ]
  },
  {
   "cell_type": "code",
   "execution_count": 13,
   "metadata": {},
   "outputs": [
    {
     "data": {
      "text/plain": [
       "[('enero', 'W'),\n",
       " ('febrero', 'W'),\n",
       " ('marzo', 'W'),\n",
       " ('abril', 'W'),\n",
       " ('mayo', 'W'),\n",
       " ('junio', 'W'),\n",
       " ('julio', 'W'),\n",
       " ('agosto', 'W'),\n",
       " ('septiembre', 'W'),\n",
       " ('octubre', 'W'),\n",
       " ('noviembre', 'W'),\n",
       " ('diciembre', 'W'),\n",
       " ('1999', 'W'),\n",
       " ('2000', 'W'),\n",
       " ('2001', 'W'),\n",
       " ('2200', 'dato'),\n",
       " ('1', 'Z'),\n",
       " ('2', 'Z'),\n",
       " ('3', 'Z'),\n",
       " ('4', 'Z'),\n",
       " ('5', 'Z'),\n",
       " ('6', 'Z'),\n",
       " ('7', 'Z'),\n",
       " ('8', 'Z'),\n",
       " ('9', 'Z'),\n",
       " ('10', 'Z'),\n",
       " ('11', 'Z'),\n",
       " ('12', 'Z'),\n",
       " ('13', 'Z'),\n",
       " ('14', 'Z'),\n",
       " ('15', 'Z'),\n",
       " ('16', 'Z'),\n",
       " ('17', 'Z'),\n",
       " ('18', 'Z'),\n",
       " ('19', 'Z'),\n",
       " ('20', 'Z'),\n",
       " ('21', 'Z'),\n",
       " ('22', 'Z'),\n",
       " ('23', 'Z'),\n",
       " ('24', 'Z'),\n",
       " ('25', 'Z'),\n",
       " ('26', 'Z'),\n",
       " ('27', 'Z'),\n",
       " ('28', 'Z'),\n",
       " ('29', 'Z'),\n",
       " ('30', 'Z'),\n",
       " ('31', 'Z'),\n",
       " ('32', 'Z'),\n",
       " ('primero', 'ao0ms0'),\n",
       " ('segundo', 'ao0ms0'),\n",
       " ('tercero', 'ao0ms0'),\n",
       " ('cuarto', 'ao0ms0'),\n",
       " ('quinto', 'ao0ms0'),\n",
       " ('sexto', 'ao0ms0'),\n",
       " ('séptimo', 'ao0ms0'),\n",
       " ('octavo', 'ao0ms0'),\n",
       " ('noveno', 'dato')]"
      ]
     },
     "execution_count": 13,
     "metadata": {},
     "output_type": "execute_result"
    }
   ],
   "source": [
    "do_tagging('enero febrero marzo abril mayo junio julio agosto septiembre octubre noviembre diciembre 1999 \\\n",
    "           2000 2001 2200 1 2 3 4 5 6 7 8 9 10 11 12 13 14 15 16 17 18 19 20 21 22 23 24 25 26 27 28 29 \\\n",
    "           30 31 32 primero segundo tercero cuarto quinto sexto séptimo octavo noveno', 'NoDocumento')"
   ]
  },
  {
   "cell_type": "markdown",
   "metadata": {},
   "source": [
    "### NOTA: \n",
    "      \n",
    "      la palabra prefijo no está en el diccionario, por lo tanto como es detectada como desconocida \n",
    "      pero cumple con la expresión regular del campo, la asigna como posible dato"
   ]
  },
  {
   "cell_type": "markdown",
   "metadata": {},
   "source": [
    "# Ejemplo de grammar"
   ]
  },
  {
   "cell_type": "markdown",
   "metadata": {},
   "source": [
    "```python\n",
    "grammar = r\"\"\"Q: {<dato|Z|Fz|unknown|ncfs000>}\n",
    "              T: {<dato|Fz|unknown|sps00>}\n",
    "              NP: {<Prefijo> <(vs\\w+)|(nc\\w+)|(wmi\\w+)|(spc\\w+)>* <Q>}\n",
    "              NP: {<Prefijo> <T>}\n",
    "              NP: {<Prefijo> <(vmi\\w+)|(aq\\w+)|unknown>? <sp\\w+>? <Q>}\n",
    "              NP: {<Prefijo> <dd0fs0> <vmp00sm> <sps00> <Q>}\n",
    "              NP: {<Q> <(vs\\w+)> <(da\\w+)> <Prefijo>}\n",
    "              NP: {<Q> <(p030\\w+)>? <vmip3s0>? <cs> <Prefijo>}\n",
    "            \"\"\"\n",
    "```\n",
    "### Nota:\n",
    "    \n",
    "    falta definir nodos terminales"
   ]
  },
  {
   "cell_type": "markdown",
   "metadata": {},
   "source": [
    "# Para diseñar las reglas y probar\n",
    "\n",
    "NOTA:\n",
    "    \n",
    "    Correr cada que se cambie el grammar"
   ]
  },
  {
   "cell_type": "code",
   "execution_count": 113,
   "metadata": {},
   "outputs": [],
   "source": [
    "grammar = r\"\"\"Q: {<dato|Z|Fz|unknown|ncfs000>}\n",
    "              T: {<dato|Fz|unknown|sps00>}\n",
    "              NP: {<Prefijo> <(vs\\w+)|(nc\\w+)|(wmi\\w+)|(spc\\w+)>* <Q>}\n",
    "              NP: {<Prefijo> <T>}\n",
    "              NP: {<Prefijo> <(vmi\\w+)|(aq\\w+)|unknown>? <sp\\w+>? <Q>}\n",
    "              NP: {<Prefijo> <dd0fs0> <vmp00sm> <sps00> <Q>}\n",
    "              NP: {<Q> <(vs\\w+)> <(da\\w+)> <Prefijo>}\n",
    "              NP: {<Q> <(p030\\w+)>? <vmip3s0>? <cs> <Prefijo>}\n",
    "            \"\"\"\n",
    "\n",
    "def prueba(exp, field): \n",
    "    tagged = do_tagging(exp.lower(), field)\n",
    "    return do_chunking(grammar, tagged, field, 1)"
   ]
  },
  {
   "cell_type": "markdown",
   "metadata": {},
   "source": [
    "NOTA:\n",
    "    \n",
    "    salida: (VALOR, CODIGO DE VALIDEZ, FRASE ETIQUETADA QUE CUMPLE CON GRAMMAR, FRASE ETIQUETADA)"
   ]
  },
  {
   "cell_type": "code",
   "execution_count": 7,
   "metadata": {},
   "outputs": [
    {
     "data": {
      "text/plain": [
       "('ESCUELA',\n",
       " 0,\n",
       " [Tree('NP', [Tree('Q', [('escuela', 'ncfs000')]), ('es', 'vsip3s0'), ('el', 'da0ms0'), ('prefijo', 'Prefijo')])],\n",
       " [('escuela', 'ncfs000'),\n",
       "  ('es', 'vsip3s0'),\n",
       "  ('el', 'da0ms0'),\n",
       "  ('prefijo', 'Prefijo')])"
      ]
     },
     "execution_count": 7,
     "metadata": {},
     "output_type": "execute_result"
    }
   ],
   "source": [
    "exp = 'escuela es el prefijo'\n",
    "field = \"Prefijo\"\n",
    "prueba(exp, field)"
   ]
  },
  {
   "cell_type": "markdown",
   "metadata": {},
   "source": [
    "# De Gerardo\n",
    "\n",
    "Valores para agregar en facturaskeys.json\n",
    "\n",
    "```json\n",
    "{\"Estatus\": [\"estado\",\"estatus\"],\n",
    " \"Acuse\": [\"acuse\"]}\n",
    "```\n",
    "Actualizar grammar\n",
    "\n",
    "```python\n",
    "\n",
    "grammar = r\"\"\"NP: {<Estatus> <(vs\\w+)|(nc\\w+)|(wmi\\w+)|(spc\\w+)>* <dato|Z|unknown>}\n",
    "              NP: {<Estatus> <(vmi\\w+)|(aq\\w+)|unknown>? <sp\\w+>? <dato|Z|unknown>}\n",
    "              NP: {<Estatus> <dd0fs0> <vmp00sm> <sps00> <aq0cs0> <ncms000> <pr0ms000> <aq0msp> <vmip3s0> <dato|Z|unknown>}\n",
    "              NP: {<dato|Z|unknown> <(vs\\w+)> <(da\\w+)> <Estatus>}\n",
    "              NP: {<dato|Z|unknown> <(p030\\w+)>? <vmip3s0>? <cs> <Estatus>}\n",
    "           \"\"\"\n",
    "\n",
    "grammar = r\"\"\"NP: {<Acuse> <(vs\\w+)|(nc\\w+)|(wmi\\w+)|(spc\\w+)>* <dato|Z|unknown>}\n",
    "              NP: {<Acuse> <(vmi\\w+)|(aq\\w+)|unknown>? <sp\\w+>? <dato|Z|unknown>}\n",
    "              NP: {<Acuse> <dd0fs0> <vmp00sm> <sps00> <aq0cs0> <ncms000> <pr0ms000> <aq0msp> <vmip3s0> <dato|Z|unknown>}\n",
    "              NP: {<dato|Z|unknown> <(vs\\w+)> <(da\\w+)> <Acuse>}\n",
    "              NP: {<dato|Z|unknown> <(p030\\w+)>? <vmip3s0>? <cs> <Acuse>}\n",
    "           \"\"\"\n",
    "```"
   ]
  },
  {
   "cell_type": "markdown",
   "metadata": {},
   "source": [
    "# Solución No. de Documento"
   ]
  },
  {
   "cell_type": "code",
   "execution_count": 261,
   "metadata": {},
   "outputs": [
    {
     "data": {
      "text/plain": [
       "'Singlel|Z|cc|sps00'"
      ]
     },
     "execution_count": 261,
     "metadata": {},
     "output_type": "execute_result"
    }
   ],
   "source": [
    "letras = [c for c in \"abcdefghijklmnñopqrstuvwxyz1234567890\"]\n",
    "tagged = do_tagging(\" \".join(letras), \"NoDocumento\")\n",
    "Q = '|'.join(np.unique([tag[1] for tag in tagged]))\n",
    "Q"
   ]
  },
  {
   "cell_type": "code",
   "execution_count": 263,
   "metadata": {
    "scrolled": true
   },
   "outputs": [
    {
     "name": "stdout",
     "output_type": "stream",
     "text": [
      "['NoDocumen', 'sps00', 'NoDocumen', 'Singlel']\n",
      "['NoDocumen', 'sps00', 'ncms000', 'cc']\n",
      "['NoDocumen', 'sps00', 'NoDocumen', 'Singlel']\n",
      "['NoDocumen', 'sps00', 'ncms000', 'Z']\n",
      "['NoDocumen', 'sps00', 'NoDocumen', 'aq0cs0', 'sps00', 'Singlel']\n",
      "['NoDocumen', 'sps00', 'ncms000', 'aq0cs0', 'sps00', 'cc']\n",
      "['NoDocumen', 'sps00', 'dato', 'cs', 'NoDocumen']\n",
      "['NoDocumen', 'sps00', 'Singlel', 'cs', 'ncms000']\n",
      "['NoDocumen', 'sps00', 'NoDocumen', 'vsip3s0', 'Z']\n",
      "['ncms000', 'sps00', 'NoDocumen', 'vsip3s0', 'Z']\n",
      "['sps00', 'ncms000', 'sps00', 'NoDocumen', 'Singlel']\n",
      "['sps00', 'NoDocumen', 'sps00', 'NoDocumen', 'sps00']\n",
      "['da0ms0', 'NoDocumen', 'sps00', 'NoDocumen', 'vsip3s0', 'cc']\n",
      "['Z', 'vsip3s0', 'da0ms0', 'NoDocumen', 'sps00', 'NoDocumen']\n"
     ]
    }
   ],
   "source": [
    "frases = [\"documento con numero x\",\n",
    "          \"documento con número y\",\n",
    "          \"documento de numero x\",\n",
    "          \"documento de número 22\",\n",
    "          \"documento con numero igual a x\",\n",
    "          \"documento con número igual a e\",\n",
    "          \"documento con aaagg como numero\",\n",
    "          \"documento con x como número\",\n",
    "          \"numero de documento es 100\",\n",
    "          \"número de documento es 100\",\n",
    "          \"con número de documento x\",\n",
    "          \"con numero de documento a\",\n",
    "          \"el numero de documento es y\",\n",
    "          \"12 es el numero de documento\"]\n",
    "\n",
    "for frase in frases:\n",
    "    tagged = do_tagging(frase, \"NoDocumento\")\n",
    "    print([tag[1] for tag in tagged])"
   ]
  },
  {
   "cell_type": "markdown",
   "metadata": {},
   "source": [
    "### Reglas gramaticales para no. de documento y solución"
   ]
  },
  {
   "cell_type": "code",
   "execution_count": 265,
   "metadata": {},
   "outputs": [
    {
     "name": "stdout",
     "output_type": "stream",
     "text": [
      "documento con numero x \n",
      " ('X', 0)\n",
      "documento con número y \n",
      " ('Y', 0)\n",
      "documento de numero x \n",
      " ('X', 0)\n",
      "documento de número 22 \n",
      " ('22', 0)\n",
      "documento con numero igual a x \n",
      " ('X', 0)\n",
      "documento con número igual a e \n",
      " ('E', 0)\n",
      "documento con aaagg como numero \n",
      " (None, 0)\n",
      "documento con x como número \n",
      " (None, 0)\n",
      "numero de documento es 100 \n",
      " ('100', 0)\n",
      "número de documento es 100 \n",
      " ('100', 0)\n",
      "con número de documento x \n",
      " ('X', 0)\n",
      "con numero de documento a \n",
      " (None, 0)\n",
      "el numero de documento es y \n",
      " ('Y', 0)\n",
      "12 es el numero de documento \n",
      " (None, 0)\n"
     ]
    }
   ],
   "source": [
    "grammar = r\"\"\" Q: {<cc|dato|Z|Singlel|unknown>}\n",
    "               NP: {<(NoDocum\\w+)> <sps00> <(NoDocum\\w+)|ncms000> <Q|ncms000>}\n",
    "               NP: {<(NoDocum\\w+)> <sps00> <(NoDocum\\w+)|ncms000> <aq0cs0>? <sps00|vsip3s0>? <Q|ncms000>}\n",
    "               NP: {<sps00> <(NoDocum\\w+)|ncms000> <aq0cs0>? <sps00|vsip3s0>? <Q|ncms000>}\n",
    "           \"\"\"\n",
    "\n",
    "posibles = ['Fz', 'Y', 'Z', 'cc', 'dato', 'nccn000', \"ncms000\"\n",
    "            'ncfs000', 'sps00', 'Singlel']\n",
    "\n",
    "exps = [\"documento con numero x\",\n",
    "        \"documento con número y\",\n",
    "        \"documento de numero x\",\n",
    "        \"documento de número 22\",\n",
    "        \"documento con numero igual a x\",\n",
    "        \"documento con número igual a e\",\n",
    "        \"documento con aaagg como numero\",\n",
    "        \"documento con x como número\",\n",
    "        \"numero de documento es 100\",\n",
    "        \"número de documento es 100\",\n",
    "        \"con número de documento x\",\n",
    "        \"con numero de documento a\",\n",
    "        \"el numero de documento es y\",\n",
    "        \"12 es el numero de documento\"]\n",
    "\n",
    "def prueba(exp, field, todo=True): \n",
    "    tagged = do_tagging(exp.lower(), field)\n",
    "    result = do_chunking(grammar, tagged, field, 1)\n",
    "    if todo:\n",
    "        print(exp, \"\\n\", result)\n",
    "    else:\n",
    "        print(exp, \"\\n\", result[:2])\n",
    "    return result\n",
    "\n",
    "for exp in exps:\n",
    "    prueba(exp, \"NoDocumento\", False)"
   ]
  },
  {
   "cell_type": "markdown",
   "metadata": {},
   "source": [
    "## Ejemplo de como si usan un Q con un elemento, despues no se puede utilizar el elemento por separado\n",
    "\n",
    "1.- Notar la diferencia en el Q"
   ]
  },
  {
   "cell_type": "code",
   "execution_count": 255,
   "metadata": {},
   "outputs": [
    {
     "data": {
      "image/png": "[encoded data removed]",
      "text/plain": [
       "Tree('S', [Tree('Q', [('y', 'cc')]), ('documento', 'NoDocumen'), ('con', 'sps00'), ('número', 'ncms000'), ('igual', 'aq0cs0'), ('a', 'sps00'), Tree('Q', [('e', 'cc')])])"
      ]
     },
     "execution_count": 255,
     "metadata": {},
     "output_type": "execute_result"
    }
   ],
   "source": [
    "tagged = do_tagging(\"y documento con número igual a e\", \"NoDocumento\")\n",
    "grammar = r\"\"\"Q: {<cc|dato|Z|Singlel|unknown|>}\n",
    "              NP: {<cc> <(NoDocum\\w+)> <sps00> <(NoDocum\\w+)|ncms000> <aq0cs0> <sps00> <Q>}\n",
    "           \"\"\"\n",
    "cp = nltk.RegexpParser(grammar)\n",
    "chunked = cp.parse(tagged)\n",
    "chunked"
   ]
  },
  {
   "cell_type": "markdown",
   "metadata": {},
   "source": [
    "2.- Notar que si se le quita el 'cc' dentro del Q si encuentra la frase"
   ]
  },
  {
   "cell_type": "code",
   "execution_count": 15,
   "metadata": {
    "scrolled": true
   },
   "outputs": [
    {
     "data": {
      "image/png": "[encoded data removed]",
      "text/plain": [
       "Tree('S', [Tree('NP', [('y', 'cc'), ('documento', 'NoDocumen'), ('con', 'sps00'), ('número', 'NoDocumen'), ('igual', 'aq0cs0'), ('a', 'sps00'), ('e', 'cc')]), Tree('NP', [('y', 'cc'), ('documento', 'NoDocumen'), ('con', 'sps00'), ('número', 'NoDocumen'), ('igual', 'aq0cs0'), ('a', 'sps00'), ('e', 'cc')])])"
      ]
     },
     "execution_count": 15,
     "metadata": {},
     "output_type": "execute_result"
    }
   ],
   "source": [
    "tagged = do_tagging(\"y documento con número igual a e y documento con número igual a e\", \"NoDocumento\")\n",
    "grammar = r\"\"\"Q: {<dato|Z|Singlel|unknown>}\n",
    "              NP: {<cc> <(NoDocum\\w+)> <sps00> <(NoDocum\\w+)|ncms000> <aq0cs0> <sps00> <Q|cc>}\n",
    "           \"\"\"\n",
    "cp = nltk.RegexpParser(grammar)\n",
    "chunked = cp.parse(tagged)\n",
    "chunked"
   ]
  },
  {
   "cell_type": "markdown",
   "metadata": {},
   "source": [
    "### Para que puedan avanzar más rápido en la creación de estructuras"
   ]
  },
  {
   "cell_type": "markdown",
   "metadata": {},
   "source": [
    "```python\n",
    "['NoDocumen', 'sps00', 'NoDocumen', 'dato']\n",
    "['NoDocumen', 'sps00', 'ncms000', 'cc']\n",
    "['NoDocumen', 'sps00', 'NoDocumen', 'dato']\n",
    "['NoDocumen', 'sps00', 'ncms000', 'Z']\n",
    "['NoDocumen', 'sps00', 'NoDocumen', 'aq0cs0', 'sps00', 'dato']\n",
    "['NoDocumen', 'sps00', 'ncms000', 'aq0cs0', 'sps00', 'cc']\n",
    "['NoDocumen', 'sps00', 'dato', 'cs', 'NoDocumen']\n",
    "['NoDocumen', 'sps00', 'dato', 'cs', 'ncms000']\n",
    "['NoDocumen', 'sps00', 'NoDocumen', 'vsip3s0', 'Z']\n",
    "['ncms000', 'sps00', 'NoDocumen', 'vsip3s0', 'Z']\n",
    "['sps00', 'ncms000', 'sps00', 'NoDocumen', 'dato']\n",
    "['sps00', 'NoDocumen', 'sps00', 'NoDocumen', 'sps00']\n",
    "```\n",
    "\n",
    "```python\n",
    "Q: {<dato|Z|ncms000>}\n",
    "\n",
    "NP: {<NoDocumen> <sps00> <NoDocumen|ncms000> <Q>}\n",
    "\n",
    "NP: {<sps00> <NoDocumen|ncms000> <sps00> <NoDocumen> <Q>}\n",
    "```"
   ]
  },
  {
   "cell_type": "markdown",
   "metadata": {},
   "source": [
    "## Para sacar los tipos de palabras contenidos en el corpus, por tipo"
   ]
  },
  {
   "cell_type": "code",
   "execution_count": null,
   "metadata": {},
   "outputs": [],
   "source": [
    "from nltk.corpus import cess_esp\n",
    "\n",
    "palabras = cess_esp.tagged_words()\n",
    "palabras = np.array(palabras)\n",
    "\n",
    "cosas = np.unique([tup[1] for tup in palabras])\n",
    "dictt = {}\n",
    "for key in cosas:\n",
    "    dictt.update(dict(zip([key], [np.unique([palabra[0] for palabra in palabras if palabra[1] == key])])))\n",
    "print(dictt)"
   ]
  },
  {
   "cell_type": "code",
   "execution_count": 85,
   "metadata": {},
   "outputs": [
    {
     "name": "stdout",
     "output_type": "stream",
     "text": [
      "['E' 'Es_decir' 'Mas' 'Mientras_que' 'Ni' 'No_bien' 'No_obstante' 'O'\n",
      " 'O_sea' 'Pero' 'Sin_embargo' 'Y' 'a_la_vez_que' 'a_saber' 'además_de'\n",
      " 'al_igual_que' 'al_tiempo_que' 'así_como' 'así_como_también' 'como' 'e'\n",
      " 'en_tanto_que' 'es' 'es_decir' 'esto_es' 'igual_que' 'lo_mismo_que'\n",
      " 'mientras' 'mientras_que' 'más' 'más_que' 'ni' 'no_obstante'\n",
      " 'no_solamente' 'no_sólo' 'o' 'o_bien' 'o_sea' 'pero' 'que' 'sin_embargo'\n",
      " 'sino' 'sino_que' 'sino_que_además' 'sino_también' 'u' 'y' 'ó']\n"
     ]
    }
   ],
   "source": [
    "print(dictt[\"cc\"])"
   ]
  },
  {
   "cell_type": "markdown",
   "metadata": {},
   "source": [
    "## Ejemplo de como funciona la búsqueda de la estructura y la palabra dentro de ella"
   ]
  },
  {
   "cell_type": "code",
   "execution_count": 250,
   "metadata": {},
   "outputs": [
    {
     "name": "stdout",
     "output_type": "stream",
     "text": [
      "Palabras Etiquetadas:  [('Mi', 'dp1css'), ('madre', 'ncfs000'), ('me', 'pp1cs000'), ('ama', 'ncfs000'), ('y', 'cc'), ('me', 'pp1cs000'), ('canta', 'vmip3s0')] \n",
      "\n",
      "Frase encontrada:  NP [('me', 'pp1cs000'), ('ama', 'ncfs000')]\n"
     ]
    }
   ],
   "source": [
    "tagged = sgt.pos_tag(\"Mi madre me ama y me canta\".split())\n",
    "print(\"Palabras Etiquetadas: \", tagged, \"\\n\")\n",
    "grammar = r\"NP: {<pp1cs000> <ncfs000>}\"\n",
    "cp = nltk.RegexpParser(grammar)\n",
    "chunked = cp.parse(tagged)\n",
    "for subtree in chunked:\n",
    "    if isinstance(subtree, nltk.Tree) and subtree.label() == \"NP\":\n",
    "        print(\"Frase encontrada: \", subtree.label(), subtree.leaves())"
   ]
  },
  {
   "cell_type": "code",
   "execution_count": 20,
   "metadata": {},
   "outputs": [],
   "source": [
    "if 0:\n",
    "    print(\"Entré.\")"
   ]
  }
 ],
 "metadata": {
  "kernelspec": {
   "display_name": "Python 3",
   "language": "python",
   "name": "python3"
  },
  "language_info": {
   "codemirror_mode": {
    "name": "ipython",
    "version": 3
   },
   "file_extension": ".py",
   "mimetype": "text/x-python",
   "name": "python",
   "nbconvert_exporter": "python",
   "pygments_lexer": "ipython3",
   "version": "3.6.4"
  }
 },
 "nbformat": 4,
 "nbformat_minor": 2
}
